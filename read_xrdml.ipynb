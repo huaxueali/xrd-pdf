{
 "cells": [
  {
   "cell_type": "code",
   "execution_count": 100,
   "id": "cc200c86",
   "metadata": {},
   "outputs": [],
   "source": [
    "import matplotlib_inline\n",
    "import matplotlib.pyplot as plt \n",
    "import numpy as np\n",
    "import xrayutilities as xu\n",
    "import glob\n",
    "import os,re"
   ]
  },
  {
   "cell_type": "code",
   "execution_count": 2,
   "id": "467510b1",
   "metadata": {},
   "outputs": [],
   "source": [
    "# read files and sorted with time.\n",
    "file_list = sorted(glob.glob(\"*.xrdml\"),key=os.path.getmtime)"
   ]
  },
  {
   "cell_type": "code",
   "execution_count": 3,
   "id": "ad96784f",
   "metadata": {},
   "outputs": [],
   "source": [
    "read_file = xu.io.XRDMLFile"
   ]
  },
  {
   "cell_type": "code",
   "execution_count": 4,
   "id": "659556b0",
   "metadata": {},
   "outputs": [],
   "source": [
    "\"\"\"Class method!\"\"\"\n",
    "\n",
    "class make_read_list_class(object):\n",
    "    def __init__(self,file_list):\n",
    "        name = self.__dict__\n",
    "        for i in range(len(file_list)):\n",
    "            file = read_file(file_list[i])\n",
    "            name['data_' + str(i)] = file"
   ]
  },
  {
   "cell_type": "markdown",
   "id": "569bc0d4",
   "metadata": {},
   "source": [
    "\"\"\"Globals & Locals method!\"\"\"\n",
    "\n",
    "def make_read_list(file_list):\n",
    "    \"\"\"From file_list read vars, and create \n",
    "        Var name is data[i].\n",
    "    \"\"\"\n",
    "    for f in range(len(file_list)):\n",
    "        createVar = globals()\n",
    "        createVar['data_' + str(f)] = read_file(file_list[f])"
   ]
  },
  {
   "cell_type": "code",
   "execution_count": 5,
   "id": "bdba36c0",
   "metadata": {},
   "outputs": [],
   "source": [
    "All_data = make_read_list_class(file_list)"
   ]
  },
  {
   "cell_type": "code",
   "execution_count": 6,
   "id": "9c2d2845",
   "metadata": {
    "scrolled": true
   },
   "outputs": [],
   "source": [
    "data_dict = All_data.__dict__"
   ]
  },
  {
   "cell_type": "code",
   "execution_count": 7,
   "id": "44349209",
   "metadata": {},
   "outputs": [
    {
     "name": "stdout",
     "output_type": "stream",
     "text": [
      "data_0\n",
      "data_1\n",
      "data_2\n",
      "data_3\n",
      "data_4\n"
     ]
    }
   ],
   "source": [
    "for dat in data_dict:\n",
    "    print(dat)"
   ]
  },
  {
   "cell_type": "markdown",
   "id": "89440e98",
   "metadata": {},
   "source": [
    "line = re.search(r'countTime with \\D\\d+',str(data_dict['data_3']))\n",
    "times = re.findall(r'\\d+',line[0])\n",
    "int(times[0])\n",
    "print(line)"
   ]
  },
  {
   "cell_type": "code",
   "execution_count": 8,
   "id": "4e15617f",
   "metadata": {},
   "outputs": [],
   "source": [
    "def find_times(data):\n",
    "    line_tmp = re.search(r'countTime with \\D\\d+',str(data_dict[data]))\n",
    "    times_tmp = re.findall(r'\\d+',line_tmp[0])\n",
    "    num = int(times_tmp[0])\n",
    "    return num"
   ]
  },
  {
   "cell_type": "markdown",
   "id": "cb7da883",
   "metadata": {},
   "source": [
    "line_tmp = re.search(r'countTime with \\D\\d',str(data_dict['data_2']))\n",
    "times_tmp = re.findall(r'\\d',line_tmp[0])\n",
    "num = int(times_tmp[0])\n",
    "print(line_tmp)"
   ]
  },
  {
   "cell_type": "code",
   "execution_count": 9,
   "id": "b1d17419",
   "metadata": {},
   "outputs": [],
   "source": [
    "class make_line_list_class(object):\n",
    "    def __init__(self,data_dict):\n",
    "        lines = self.__dict__\n",
    "        for d in data_dict:\n",
    "            line_name = f\"line_{d}\"\n",
    "            lines[line_name] =  find_times(d)"
   ]
  },
  {
   "cell_type": "code",
   "execution_count": 10,
   "id": "e4c306e6",
   "metadata": {},
   "outputs": [
    {
     "data": {
      "text/plain": [
       "{'line_data_0': 1,\n",
       " 'line_data_1': 3,\n",
       " 'line_data_2': 10,\n",
       " 'line_data_3': 17,\n",
       " 'line_data_4': 21}"
      ]
     },
     "execution_count": 10,
     "metadata": {},
     "output_type": "execute_result"
    }
   ],
   "source": [
    "make_line_list_class(data_dict).__dict__"
   ]
  },
  {
   "cell_type": "code",
   "execution_count": 11,
   "id": "e2629c7d",
   "metadata": {},
   "outputs": [],
   "source": [
    "num_dict = make_line_list_class(data_dict).__dict__"
   ]
  },
  {
   "cell_type": "code",
   "execution_count": 29,
   "id": "25e6c2da",
   "metadata": {},
   "outputs": [],
   "source": [
    "class make_count_dict():\n",
    "    def __init__(self,data_dict):\n",
    "        counts = self.__dict__\n",
    "        for d in data_dict:\n",
    "            count = data_dict[d].scan.ddict['counts']\n",
    "            if count.ndim > 1:\n",
    "                counts['count_' + str(d)] = np.sum(count,axis=0)/find_times(d)\n",
    "            else:\n",
    "                counts['count_' + str(d)] = count"
   ]
  },
  {
   "cell_type": "code",
   "execution_count": 31,
   "id": "adce1f1e",
   "metadata": {
    "scrolled": true
   },
   "outputs": [],
   "source": [
    "count_averaged = make_count_dict(data_dict).__dict__\n"
   ]
  },
  {
   "cell_type": "code",
   "execution_count": 70,
   "id": "d48f0163",
   "metadata": {},
   "outputs": [],
   "source": [
    "list_count = [value for value in count_averaged.values()]"
   ]
  },
  {
   "cell_type": "code",
   "execution_count": 73,
   "id": "9f93ea95",
   "metadata": {},
   "outputs": [],
   "source": [
    "all_count = np.concatenate(list_count)"
   ]
  },
  {
   "cell_type": "code",
   "execution_count": 89,
   "id": "eab53118",
   "metadata": {},
   "outputs": [],
   "source": [
    "class make_theta_dict():\n",
    "    def __init__(self,data_dict):\n",
    "        thetas = self.__dict__\n",
    "        for t in data_dict:\n",
    "            theta = data_dict[t].scan.ddict['2Theta']\n",
    "            if theta.ndim > 1:\n",
    "                thetas['2theta_' + str(t)] = theta[0]\n",
    "            else:\n",
    "                thetas['2theta_' + str(t)] = theta"
   ]
  },
  {
   "cell_type": "code",
   "execution_count": 90,
   "id": "7fa00572",
   "metadata": {},
   "outputs": [],
   "source": [
    "theta_dict = make_theta_dict(data_dict).__dict__"
   ]
  },
  {
   "cell_type": "code",
   "execution_count": 92,
   "id": "fef1571e",
   "metadata": {},
   "outputs": [],
   "source": [
    "list_theta = [value for value in theta_dict.values()]\n",
    "all_theta = np.concatenate(list_theta)"
   ]
  },
  {
   "cell_type": "code",
   "execution_count": 98,
   "id": "8341c01e",
   "metadata": {},
   "outputs": [
    {
     "data": {
      "image/png": "[encoded data removed]",
      "text/plain": [
       "<Figure size 640x480 with 1 Axes>"
      ]
     },
     "metadata": {},
     "output_type": "display_data"
    }
   ],
   "source": [
    "plt.plot(all_theta,all_count)\n",
    "plt.show()"
   ]
  },
  {
   "cell_type": "code",
   "execution_count": 124,
   "id": "e4351c18",
   "metadata": {},
   "outputs": [],
   "source": [
    "final_data = np.array((all_theta,all_count))"
   ]
  },
  {
   "cell_type": "code",
   "execution_count": 127,
   "id": "7fbc9d83",
   "metadata": {},
   "outputs": [
    {
     "data": {
      "text/plain": [
       "array([[2.01432394e+00, 2.04297182e+00, 2.07161970e+00, ...,\n",
       "        1.39929952e+02, 1.39958600e+02, 1.39987248e+02],\n",
       "       [7.97560000e+04, 7.83930000e+04, 7.79250000e+04, ...,\n",
       "        2.44909524e+03, 2.46033333e+03, 2.47785714e+03]])"
      ]
     },
     "execution_count": 127,
     "metadata": {},
     "output_type": "execute_result"
    }
   ],
   "source": [
    "final_data"
   ]
  },
  {
   "cell_type": "code",
   "execution_count": 130,
   "id": "c40b4994",
   "metadata": {},
   "outputs": [],
   "source": [
    "np.savetxt(\"final_data.xy\",final_data,delimiter=' ')"
   ]
  }
 ],
 "metadata": {
  "kernelspec": {
   "display_name": "Python 3 (ipykernel)",
   "language": "python",
   "name": "python3"
  },
  "language_info": {
   "codemirror_mode": {
    "name": "ipython",
    "version": 3
   },
   "file_extension": ".py",
   "mimetype": "text/x-python",
   "name": "python",
   "nbconvert_exporter": "python",
   "pygments_lexer": "ipython3",
   "version": "3.8.16"
  }
 },
 "nbformat": 4,
 "nbformat_minor": 5
}
